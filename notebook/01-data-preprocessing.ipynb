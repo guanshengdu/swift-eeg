{
 "cells": [
  {
   "cell_type": "markdown",
   "metadata": {},
   "source": [
    "## 15.02.2025"
   ]
  },
  {
   "cell_type": "markdown",
   "metadata": {},
   "source": [
    "### Import `.mat` raw data"
   ]
  },
  {
   "cell_type": "code",
   "execution_count": 2,
   "metadata": {},
   "outputs": [],
   "source": [
    "import numpy as np\n",
    "import pandas as pd\n",
    "from scipy.io import loadmat\n",
    "import os\n"
   ]
  },
  {
   "cell_type": "code",
   "execution_count": 3,
   "metadata": {},
   "outputs": [
    {
     "data": {
      "text/plain": [
       "'/home/gs/code/swift-eeg/notebook'"
      ]
     },
     "execution_count": 3,
     "metadata": {},
     "output_type": "execute_result"
    }
   ],
   "source": [
    "os.getcwd()"
   ]
  },
  {
   "cell_type": "code",
   "execution_count": 5,
   "metadata": {},
   "outputs": [],
   "source": [
    "# Data folder\n",
    "\n",
    "data_folder = \"/home/gs/code/swift-eeg/data/raw\"\n",
    "\n",
    "# Load the .mat file\n",
    "data = loadmat(data_folder + \"/Filtered_EPISL_01_W1_EEG_FiltDwn_05to30Hz.mat\")"
   ]
  },
  {
   "cell_type": "markdown",
   "metadata": {},
   "source": [
    "### Load the data. \n",
    "\n",
    "The data is in dictionary format with the following keys:\n",
    "- `__header__` \n",
    "- `__version__`\n",
    "- `__globals__`\n",
    "- `EEG_filtered`\n"
   ]
  },
  {
   "cell_type": "code",
   "execution_count": 6,
   "metadata": {},
   "outputs": [],
   "source": [
    "# EEG data from the .mat file, shape = (129, 3605508)\n",
    "eeg = data[\"EEG_filtered\"][\"EEG\"][0, 0]\n",
    "\n",
    "# Channel location\n",
    "channel_location = data[\"EEG_filtered\"][\"chanlocs\"][0, 0]\n",
    "\n",
    "# Indices of clean epochs. Adjusted to 0-based indexing.\n",
    "visgood = data[\"EEG_filtered\"][\"visgood\"][0, 0] - 1\n",
    "\n",
    "# Expert labeled sleep stages\n",
    "visnum = data[\"EEG_filtered\"][\"visnum\"][0, 0]\n",
    "\n",
    "visgood = visgood.astype(int)\n",
    "visnum = visnum.astype(int)"
   ]
  }
 ],
 "metadata": {
  "kernelspec": {
   "display_name": "v59_env",
   "language": "python",
   "name": "python3"
  },
  "language_info": {
   "codemirror_mode": {
    "name": "ipython",
    "version": 3
   },
   "file_extension": ".py",
   "mimetype": "text/x-python",
   "name": "python",
   "nbconvert_exporter": "python",
   "pygments_lexer": "ipython3",
   "version": "3.11.10"
  }
 },
 "nbformat": 4,
 "nbformat_minor": 2
}
