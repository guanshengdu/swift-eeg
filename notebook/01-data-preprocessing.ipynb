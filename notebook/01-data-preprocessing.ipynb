{
 "cells": [
  {
   "cell_type": "markdown",
   "metadata": {},
   "source": [
    "## 15.02.2025"
   ]
  },
  {
   "cell_type": "markdown",
   "metadata": {},
   "source": [
    "The purpose of this coding is to do the data preprocessing for one night data. \n",
    "Reference: Local and Widespread Slow Waves in Stable NREM Sleep: Evidence for Distinct Regulation Mechanisms"
   ]
  },
  {
   "cell_type": "markdown",
   "metadata": {},
   "source": [
    "### Import `.mat` raw data"
   ]
  },
  {
   "cell_type": "code",
   "execution_count": 2,
   "metadata": {},
   "outputs": [],
   "source": [
    "import numpy as np\n",
    "import pandas as pd\n",
    "from scipy.io import loadmat\n",
    "import os\n"
   ]
  },
  {
   "cell_type": "code",
   "execution_count": 3,
   "metadata": {},
   "outputs": [
    {
     "data": {
      "text/plain": [
       "'/home/gs/code/swift-eeg/notebook'"
      ]
     },
     "execution_count": 3,
     "metadata": {},
     "output_type": "execute_result"
    }
   ],
   "source": [
    "os.getcwd()"
   ]
  },
  {
   "cell_type": "code",
   "execution_count": 4,
   "metadata": {},
   "outputs": [],
   "source": [
    "# Data folder\n",
    "\n",
    "data_folder = \"/home/gs/code/swift-eeg/data/raw\"\n",
    "\n",
    "# Load the .mat file\n",
    "data = loadmat(data_folder + \"/Filtered_EPISL_01_W1_EEG_FiltDwn_05to30Hz.mat\")"
   ]
  },
  {
   "cell_type": "markdown",
   "metadata": {},
   "source": [
    "### Load the data. \n",
    "\n",
    "The data is in dictionary format with the following keys:\n",
    "- `__header__` \n",
    "- `__version__`\n",
    "- `__globals__`\n",
    "- `EEG_filtered`\n",
    "\n",
    "EEG -> EEG data channel x samples @ 125 Hz, references to Cz\n",
    "\n",
    "visnum -> indices of expert labeled sleep stages for each 20s epoch\n",
    "\n",
    "- 1 = awake\n",
    "- 0 = REM\n",
    "- -1 = NREM 1\n",
    "- -2 = NREM 2\n",
    "- -3 = NREM 3\n",
    "\n",
    "visgood -> indices of clean epochs\n",
    "\n",
    "chanlocs -> channel information\n"
   ]
  },
  {
   "cell_type": "markdown",
   "metadata": {},
   "source": [
    "The difference of the UZH data with the data from the paper.\n",
    "\n",
    "- 125 Hz vs 500 Hz\n",
    "- 20 s per epoch vs 30 s per epoch\n"
   ]
  },
  {
   "cell_type": "code",
   "execution_count": 4,
   "metadata": {},
   "outputs": [
    {
     "data": {
      "text/plain": [
       "1442.2032"
      ]
     },
     "execution_count": 4,
     "metadata": {},
     "output_type": "execute_result"
    }
   ],
   "source": [
    "3605508 / 125 / 20"
   ]
  },
  {
   "cell_type": "code",
   "execution_count": 6,
   "metadata": {},
   "outputs": [],
   "source": [
    "# EEG data from the .mat file, shape = (129, 3605508)\n",
    "eeg = data[\"EEG_filtered\"][\"EEG\"][0, 0]\n",
    "\n",
    "# Channel location\n",
    "channel_location = data[\"EEG_filtered\"][\"chanlocs\"][0, 0]\n",
    "\n",
    "# Indices of clean epochs. Adjusted to 0-based indexing, shape = (1, 1267)\n",
    "clean_epoch_index = data[\"EEG_filtered\"][\"visgood\"][0, 0] - 1\n",
    "\n",
    "# Expert labeled sleep stages, shape = (1, 1442)\n",
    "sleep_stage = data[\"EEG_filtered\"][\"visnum\"][0, 0]\n",
    "\n",
    "clean_epoch_index = clean_epoch_index.astype(int)\n",
    "sleep_stage = sleep_stage.astype(int)"
   ]
  },
  {
   "cell_type": "code",
   "execution_count": null,
   "metadata": {},
   "outputs": [],
   "source": [
    "channel_location"
   ]
  },
  {
   "cell_type": "code",
   "execution_count": 14,
   "metadata": {},
   "outputs": [
    {
     "data": {
      "text/plain": [
       "numpy.ndarray"
      ]
     },
     "execution_count": 14,
     "metadata": {},
     "output_type": "execute_result"
    }
   ],
   "source": [
    "type(channel_location)"
   ]
  },
  {
   "cell_type": "code",
   "execution_count": 17,
   "metadata": {},
   "outputs": [
    {
     "data": {
      "text/plain": [
       "np.void((array([[0]], dtype=uint8), array([[0]], dtype=uint8), array(['Cz'], dtype='<U2'), array([[-0.]]), array([[90]], dtype=uint8), array([[0]], dtype=uint8), array([[90]], dtype=uint8), array([[6.123234e-17]]), array([[-0.]]), array([[1]], dtype=uint8)), dtype=[('theta', 'O'), ('radius', 'O'), ('labels', 'O'), ('sph_theta', 'O'), ('sph_phi', 'O'), ('sph_theta_besa', 'O'), ('sph_phi_besa', 'O'), ('X', 'O'), ('Y', 'O'), ('Z', 'O')])"
      ]
     },
     "execution_count": 17,
     "metadata": {},
     "output_type": "execute_result"
    }
   ],
   "source": [
    "channel_location[0, 128]"
   ]
  },
  {
   "cell_type": "markdown",
   "metadata": {},
   "source": []
  },
  {
   "cell_type": "markdown",
   "metadata": {},
   "source": [
    "Each EEG recording was band-pass fileted (0.5 - 58 Hz), and sleep stage N2 and N3 were extracted"
   ]
  },
  {
   "cell_type": "code",
   "execution_count": 7,
   "metadata": {},
   "outputs": [],
   "source": [
    "import numpy as np\n",
    "import mne\n",
    "\n",
    "# 📌 Load EEG Data\n",
    "fs = 125 # Sampling frequency in Hz (change if different)\n",
    "eeg_data = eeg  # Shape: (129 channels, 3,605,508 samples)\n",
    "\n",
    "\n",
    "# 📌 Step 1: Band-pass Filter (0.5–58 Hz)\n",
    "def bandpass_filter(eeg_data, lowcut=0.5, highcut=58, fs=fs, order=4):\n",
    "    \"\"\"Apply band-pass filter to EEG data\"\"\"\n",
    "    from scipy.signal import butter, filtfilt\n",
    "\n",
    "    nyquist = 0.5 * fs\n",
    "    low, high = lowcut / nyquist, highcut / nyquist\n",
    "    b, a = butter(order, [low, high], btype=\"band\")\n",
    "    return filtfilt(b, a, eeg_data, axis=1)  # Apply filter across time axis\n",
    "\n",
    "\n",
    "filtered_eeg = bandpass_filter(eeg_data) # shape = (129, 3605508)\n",
    "\n",
    "# 📌 Step 2: Extract 30s Epochs of N2 & N3 Sleep Stages\n",
    "# Assume sleep stage annotations exist in \"sleep_stages.npy\" (Shape: (n_samples,))\n",
    "# sleep_stages = np.load(\"data/raw/sleep_stages.npy\")  # Example sleep stage array\n",
    "\n",
    "# Find indices corresponding to N2 & N3 sleep\n",
    "n2_n3_indices = np.where((sleep_stage == -2) | (sleep_stage == -3))[1] # shape = (935,)\n",
    "\n",
    "selected_indices = np.intersect1d(n2_n3_indices, clean_epoch_index.squeeze())\n"
   ]
  },
  {
   "cell_type": "code",
   "execution_count": 8,
   "metadata": {},
   "outputs": [
    {
     "data": {
      "text/plain": [
       "array([  29,   30,   31,   32,   33,   34,   35,   36,   37,   38,   39,\n",
       "         40,   41,   42,   43,   44,   45,   46,   47,   48,   49,   50,\n",
       "         51,   52,   53,   54,   55,   56,   57,   58,   59,   60,   61,\n",
       "         62,   63,   64,   65,   66,   67,   68,   69,   70,   71,   72,\n",
       "         73,   74,   76,   77,   78,   79,   80,   81,   82,   83,   84,\n",
       "         85,   86,   87,   88,   89,   90,   91,   92,   93,   94,   95,\n",
       "         96,   97,   98,   99,  100,  101,  102,  103,  104,  105,  106,\n",
       "        107,  108,  109,  110,  111,  112,  113,  114,  115,  116,  117,\n",
       "        118,  119,  120,  121,  122,  123,  124,  125,  126,  127,  128,\n",
       "        129,  130,  133,  134,  135,  136,  137,  138,  139,  140,  141,\n",
       "        142,  143,  144,  145,  146,  147,  148,  149,  150,  151,  152,\n",
       "        153,  154,  155,  156,  157,  158,  159,  160,  161,  164,  165,\n",
       "        166,  167,  168,  169,  170,  171,  172,  173,  174,  175,  178,\n",
       "        180,  181,  183,  184,  185,  186,  187,  188,  189,  190,  191,\n",
       "        193,  194,  195,  196,  197,  198,  199,  200,  201,  202,  203,\n",
       "        204,  205,  206,  211,  212,  213,  214,  215,  216,  217,  218,\n",
       "        222,  223,  224,  225,  226,  227,  228,  229,  230,  231,  235,\n",
       "        236,  237,  238,  239,  240,  241,  242,  243,  244,  245,  246,\n",
       "        247,  248,  249,  250,  251,  252,  253,  254,  255,  256,  257,\n",
       "        258,  259,  260,  261,  262,  263,  264,  265,  266,  267,  268,\n",
       "        269,  270,  271,  272,  273,  274,  275,  276,  277,  278,  279,\n",
       "        280,  281,  282,  283,  284,  288,  290,  291,  292,  293,  294,\n",
       "        295,  296,  297,  298,  299,  300,  301,  302,  303,  307,  308,\n",
       "        309,  312,  313,  314,  315,  316,  317,  318,  319,  320,  321,\n",
       "        322,  323,  324,  325,  326,  327,  328,  329,  330,  331,  332,\n",
       "        333,  334,  335,  336,  337,  338,  339,  340,  341,  342,  343,\n",
       "        344,  345,  346,  347,  348,  349,  350,  351,  352,  353,  354,\n",
       "        355,  356,  357,  358,  359,  360,  361,  362,  363,  364,  365,\n",
       "        366,  367,  368,  369,  370,  371,  372,  373,  374,  375,  376,\n",
       "        377,  378,  379,  380,  381,  382,  383,  384,  385,  386,  387,\n",
       "        388,  389,  390,  391,  392,  393,  394,  395,  396,  397,  398,\n",
       "        399,  400,  401,  405,  406,  408,  409,  410,  411,  412,  413,\n",
       "        414,  415,  416,  454,  455,  456,  457,  499,  500,  501,  502,\n",
       "        503,  504,  505,  506,  507,  508,  509,  510,  511,  512,  513,\n",
       "        514,  519,  520,  521,  522,  523,  524,  525,  526,  527,  528,\n",
       "        529,  530,  531,  532,  533,  534,  535,  536,  540,  541,  542,\n",
       "        543,  545,  548,  549,  550,  551,  552,  553,  554,  555,  556,\n",
       "        557,  558,  559,  560,  561,  562,  563,  567,  568,  569,  570,\n",
       "        571,  572,  573,  574,  575,  576,  577,  578,  579,  580,  581,\n",
       "        582,  583,  584,  585,  586,  587,  588,  589,  590,  591,  592,\n",
       "        593,  594,  595,  601,  606,  607,  608,  609,  610,  611,  612,\n",
       "        613,  614,  615,  616,  617,  618,  619,  620,  621,  622,  623,\n",
       "        624,  625,  626,  627,  628,  629,  630,  631,  632,  633,  636,\n",
       "        637,  638,  639,  640,  641,  642,  643,  644,  645,  646,  647,\n",
       "        648,  649,  650,  651,  652,  653,  654,  655,  656,  657,  658,\n",
       "        665,  666,  667,  668,  669,  670,  671,  672,  673,  674,  675,\n",
       "        676,  677,  678,  679,  680,  681,  682,  683,  688,  689,  690,\n",
       "        691,  692,  693,  694,  695,  696,  697,  698,  700,  701,  702,\n",
       "        703,  704,  705,  706,  707,  708,  709,  712,  713,  714,  715,\n",
       "        789,  790,  791,  792,  793,  794,  795,  796,  797,  799,  800,\n",
       "        801,  802,  803,  804,  805,  806,  807,  808,  809,  812,  813,\n",
       "        814,  815,  816,  817,  818,  819,  820,  821,  822,  823,  824,\n",
       "        825,  826,  827,  828,  829,  830,  831,  832,  833,  834,  835,\n",
       "        836,  837,  838,  839,  840,  841,  842,  843,  844,  845,  846,\n",
       "        847,  848,  849,  850,  851,  852,  853,  854,  855,  856,  857,\n",
       "        858,  859,  860,  861,  862,  863,  864,  865,  866,  867,  868,\n",
       "        869,  870,  871,  872,  873,  874,  875,  876,  877,  878,  879,\n",
       "        880,  881,  882,  883,  884,  885,  886,  887,  888,  889,  890,\n",
       "        891,  892,  893,  894,  895,  896,  897,  898,  901,  902,  903,\n",
       "        904,  905,  906,  907,  908,  909,  910,  911,  912,  913,  914,\n",
       "        915,  916,  917,  954,  956,  957,  958,  959,  960,  961,  962,\n",
       "        963,  964,  965,  966,  967,  968,  969,  970,  971,  972,  973,\n",
       "        974,  975,  976,  977,  980,  982,  983,  984,  985,  986,  987,\n",
       "        990,  991,  992,  993,  995,  996,  997,  998,  999, 1000, 1003,\n",
       "       1010, 1011, 1012, 1013, 1014, 1015, 1016, 1017, 1018, 1019, 1020,\n",
       "       1021, 1022, 1023, 1024, 1025, 1026, 1027, 1028, 1029, 1030, 1031,\n",
       "       1032, 1033, 1034, 1035, 1037, 1038, 1039, 1040, 1041, 1042, 1043,\n",
       "       1044, 1045, 1046, 1047, 1048, 1049, 1050, 1051, 1052, 1053, 1054,\n",
       "       1055, 1056, 1057, 1058, 1059, 1060, 1063, 1064, 1065, 1066, 1067,\n",
       "       1068, 1069, 1070, 1071, 1072, 1073, 1074, 1075, 1076, 1077, 1078,\n",
       "       1079, 1080, 1081, 1082, 1308, 1309, 1310, 1311, 1312, 1313, 1314,\n",
       "       1315, 1316, 1317, 1318, 1319, 1320, 1321, 1322, 1323, 1324, 1325,\n",
       "       1326, 1333, 1334, 1335, 1336, 1337, 1338, 1339, 1340, 1341, 1342,\n",
       "       1343, 1344, 1345, 1346, 1347, 1348, 1349, 1350, 1351, 1352, 1353,\n",
       "       1354, 1355, 1356, 1357, 1358, 1359, 1360, 1361, 1362, 1363, 1364,\n",
       "       1365, 1366, 1368, 1376, 1381, 1382, 1383, 1384, 1385, 1386, 1387,\n",
       "       1388, 1389, 1390, 1391, 1392, 1393, 1394, 1395, 1396, 1397, 1398,\n",
       "       1399, 1400, 1401, 1402, 1403, 1404, 1405, 1406, 1407, 1408, 1409,\n",
       "       1410, 1411, 1412, 1413, 1414, 1415, 1416, 1417, 1418, 1423, 1424,\n",
       "       1425, 1426, 1436, 1437, 1438, 1439, 1440])"
      ]
     },
     "execution_count": 8,
     "metadata": {},
     "output_type": "execute_result"
    }
   ],
   "source": [
    "selected_indices"
   ]
  },
  {
   "cell_type": "code",
   "execution_count": 9,
   "metadata": {},
   "outputs": [],
   "source": [
    "\n",
    "# Extract 30s epochs (20s * fs samples)\n",
    "epoch_length = fs * 20  # 20s epochs\n",
    "selected_epochs = [\n",
    "    filtered_eeg[:, i : i + epoch_length]\n",
    "    for i in selected_indices\n",
    "    if i + epoch_length < filtered_eeg.shape[1]\n",
    "]"
   ]
  },
  {
   "cell_type": "code",
   "execution_count": 10,
   "metadata": {},
   "outputs": [
    {
     "name": "stdout",
     "output_type": "stream",
     "text": [
      "Creating RawArray with float64 data, n_channels=129, n_times=3605508\n",
      "    Range : 0 ... 3605507 =      0.000 ... 28844.056 secs\n",
      "Ready.\n",
      "Fitting ICA to data using 129 channels (please be patient, this may take a while)\n"
     ]
    },
    {
     "name": "stderr",
     "output_type": "stream",
     "text": [
      "/tmp/ipykernel_372343/3695853375.py:21: RuntimeWarning: The data has not been high-pass filtered. For good ICA performance, it should be high-pass filtered (e.g., with a 1.0 Hz lower bound) before fitting ICA.\n",
      "  ica.fit(raw)\n"
     ]
    },
    {
     "ename": "",
     "evalue": "",
     "output_type": "error",
     "traceback": [
      "\u001b[1;31mThe Kernel crashed while executing code in the current cell or a previous cell. \n",
      "\u001b[1;31mPlease review the code in the cell(s) to identify a possible cause of the failure. \n",
      "\u001b[1;31mClick <a href='https://aka.ms/vscodeJupyterKernelCrash'>here</a> for more info. \n",
      "\u001b[1;31mView Jupyter <a href='command:jupyter.viewOutput'>log</a> for further details."
     ]
    }
   ],
   "source": [
    "\n",
    "# Convert to NumPy array (Shape: (n_epochs, n_channels, epoch_length))\n",
    "selected_epochs = np.array(selected_epochs)\n",
    "\n",
    "# 📌 Step 3: Remove Bad Channels & Interpolate Using MNE\n",
    "raw = mne.io.RawArray(\n",
    "    filtered_eeg,\n",
    "    mne.create_info(\n",
    "        ch_names=[f\"Ch{i}\" for i in range(eeg_data.shape[0])], sfreq=fs, ch_types=\"eeg\"\n",
    "    ),\n",
    ")\n",
    "\n",
    "# Manually define bad channels (Example: Channels 10 & 20 are bad)\n",
    "# bad_channels = [\"Ch10\", \"Ch20\"]\n",
    "# raw.info[\"bads\"] = bad_channels\n",
    "\n",
    "# Interpolate bad channels using spherical splines\n",
    "# raw.interpolate_bads(reset_bads=True, mode=\"accurate\")\n",
    "\n",
    "# 📌 Step 4: Apply ICA to Remove Artifacts\n",
    "ica = mne.preprocessing.ICA(n_components=30, random_state=97, method=\"fastica\")\n",
    "ica.fit(raw)\n",
    "\n"
   ]
  },
  {
   "cell_type": "code",
   "execution_count": null,
   "metadata": {},
   "outputs": [],
   "source": [
    "\n",
    "# Automatically detect & remove ECG/EOG artifacts\n",
    "ecg_indices, _ = ica.find_bads_ecg(raw, method=\"correlation\")\n",
    "eog_indices, _ = ica.find_bads_eog(raw)\n",
    "ica.exclude = ecg_indices + eog_indices  # Remove bad components\n",
    "raw = ica.apply(raw)\n",
    "\n",
    "# 📌 Step 5: Remove 72 Neck/Face Electrodes & Keep 185 Internal Channels\n",
    "# Assume the indices of face/neck electrodes are in \"face_neck_channels.npy\"\n",
    "face_neck_channels = np.load(\"data/raw/face_neck_channels.npy\")  # Shape: (72,)\n",
    "\n",
    "# Keep only the remaining 185 channels\n",
    "kept_channels = np.delete(raw.get_data(), face_neck_channels, axis=0)\n",
    "\n",
    "# 📌 Save Preprocessed EEG Data\n",
    "np.save(\"data/preprocessed/eeg_filtered.npy\", kept_channels)\n",
    "\n",
    "# 📊 Plot Raw & Processed EEG Signals\n",
    "raw.plot(duration=5, n_channels=20, scalings=\"auto\", title=\"Preprocessed EEG\")"
   ]
  },
  {
   "cell_type": "code",
   "execution_count": 11,
   "metadata": {},
   "outputs": [
    {
     "ename": "NameError",
     "evalue": "name 'eeg_data' is not defined",
     "output_type": "error",
     "traceback": [
      "\u001b[0;31m---------------------------------------------------------------------------\u001b[0m",
      "\u001b[0;31mNameError\u001b[0m                                 Traceback (most recent call last)",
      "Cell \u001b[0;32mIn[11], line 11\u001b[0m\n\u001b[1;32m      6\u001b[0m fs \u001b[38;5;241m=\u001b[39m \u001b[38;5;241m125\u001b[39m  \u001b[38;5;66;03m# Sampling frequency (Hz)\u001b[39;00m\n\u001b[1;32m      9\u001b[0m \u001b[38;5;66;03m# Create MNE RawArray object\u001b[39;00m\n\u001b[1;32m     10\u001b[0m info \u001b[38;5;241m=\u001b[39m mne\u001b[38;5;241m.\u001b[39mcreate_info(\n\u001b[0;32m---> 11\u001b[0m     ch_names\u001b[38;5;241m=\u001b[39m[\u001b[38;5;124mf\u001b[39m\u001b[38;5;124m\"\u001b[39m\u001b[38;5;124mCh\u001b[39m\u001b[38;5;132;01m{\u001b[39;00mi\u001b[38;5;132;01m}\u001b[39;00m\u001b[38;5;124m\"\u001b[39m \u001b[38;5;28;01mfor\u001b[39;00m i \u001b[38;5;129;01min\u001b[39;00m \u001b[38;5;28mrange\u001b[39m(\u001b[43meeg_data\u001b[49m\u001b[38;5;241m.\u001b[39mshape[\u001b[38;5;241m0\u001b[39m])], sfreq\u001b[38;5;241m=\u001b[39mfs, ch_types\u001b[38;5;241m=\u001b[39m\u001b[38;5;124m\"\u001b[39m\u001b[38;5;124meeg\u001b[39m\u001b[38;5;124m\"\u001b[39m\n\u001b[1;32m     12\u001b[0m )\n\u001b[1;32m     13\u001b[0m raw \u001b[38;5;241m=\u001b[39m mne\u001b[38;5;241m.\u001b[39mio\u001b[38;5;241m.\u001b[39mRawArray(eeg, info)\n\u001b[1;32m     15\u001b[0m \u001b[38;5;66;03m# Apply band-pass filter (0.5 - 58 Hz)\u001b[39;00m\n",
      "\u001b[0;31mNameError\u001b[0m: name 'eeg_data' is not defined"
     ]
    }
   ],
   "source": [
    "import mne\n",
    "\n",
    "import numpy as np\n",
    "\n",
    "# Example EEG data: (n_channels, n_samples)\n",
    "fs = 125  # Sampling frequency (Hz)\n",
    "\n",
    "\n",
    "# Create MNE RawArray object\n",
    "info = mne.create_info(\n",
    "    ch_names=[f\"Ch{i}\" for i in range(eeg_data.shape[0])], sfreq=fs, ch_types=\"eeg\"\n",
    ")\n",
    "raw = mne.io.RawArray(eeg, info)\n",
    "\n",
    "# Apply band-pass filter (0.5 - 58 Hz)\n",
    "raw.filter(l_freq=0.5, h_freq=58, fir_design=\"firwin\")\n",
    "\n",
    "# Convert back to NumPy array (if needed)\n",
    "filtered_eeg = raw.get_data()"
   ]
  }
 ],
 "metadata": {
  "kernelspec": {
   "display_name": "v59_env",
   "language": "python",
   "name": "python3"
  },
  "language_info": {
   "codemirror_mode": {
    "name": "ipython",
    "version": 3
   },
   "file_extension": ".py",
   "mimetype": "text/x-python",
   "name": "python",
   "nbconvert_exporter": "python",
   "pygments_lexer": "ipython3",
   "version": "3.11.10"
  }
 },
 "nbformat": 4,
 "nbformat_minor": 2
}
